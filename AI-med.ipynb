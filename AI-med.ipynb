{
 "cells": [
  {
   "cell_type": "code",
   "execution_count": 3,
   "id": "281569ea-57f5-43ff-8974-0393f26847e2",
   "metadata": {},
   "outputs": [
    {
     "name": "stdout",
     "output_type": "stream",
     "text": [
      "(9296, 15)\n",
      "       span Activities.ActivityCategory              Activities.CareEpisodeID  \\\n",
      "0  00:00:00                         NaN  003a5a30-a154-49e0-a560-9537fac94de8   \n",
      "1  00:00:00                         NaN  003a5a30-a154-49e0-a560-9537fac94de8   \n",
      "2  00:00:00                         NaN  003a5a30-a154-49e0-a560-9537fac94de8   \n",
      "3  00:00:00                         NaN  003a5a30-a154-49e0-a560-9537fac94de8   \n",
      "4  02:00:00                         NaN  003a5a30-a154-49e0-a560-9537fac94de8   \n",
      "\n",
      "  Activities.description  Activities.doubleStaffing  \\\n",
      "0                    NaN                      False   \n",
      "1                    NaN                      False   \n",
      "2                    NaN                      False   \n",
      "3                    NaN                      False   \n",
      "4                    NaN                      False   \n",
      "\n",
      "                     Activities.title  \\\n",
      "0         Byta KAD påse och instruera   \n",
      "1                          Ge Innohep   \n",
      "2                   Instruera innohep   \n",
      "3            Ta tillbaka materiallåda   \n",
      "4  Lämna blodsockermätare + instruera   \n",
      "\n",
      "  ActivityOccurenceEvents.event_data.visitId   event_data.finishedAt  \\\n",
      "0       56ac26f0-d6cb-4bc1-b3d4-3deaa488f6ba 2024-05-10 08:01:46.147   \n",
      "1       f0225b57-8671-4760-a63c-13608eb9c156 2024-05-08 17:22:16.903   \n",
      "2       f0225b57-8671-4760-a63c-13608eb9c156 2024-05-08 17:22:10.473   \n",
      "3       647dea4e-9449-4a18-9b75-00ccad27395d 2024-05-14 16:46:17.203   \n",
      "4       f0225b57-8671-4760-a63c-13608eb9c156 2024-05-08 17:22:00.273   \n",
      "\n",
      "  event_data.occurencePlannedDatetime                          aggregate_id  \\\n",
      "0                 2024-05-10 08:01:00  56b5aac7-c593-4c5a-bd75-986a1447f0b6   \n",
      "1                 2024-05-08 17:22:00  47efa3d0-ceca-47e2-bb2e-5004944cbbc5   \n",
      "2                 2024-05-08 17:22:00  3ad505e2-2225-4d00-b61b-255b5899a855   \n",
      "3                 2024-05-14 16:46:00  478a218c-b9f9-4bf7-bda5-d501e12a5642   \n",
      "4                 2024-05-08 15:00:00  72911689-c1ae-408b-be80-065c06709cd2   \n",
      "\n",
      "  event_data.occurrenceDate               event_data.occurrenceId  \\\n",
      "0             20240510-0801  ed7d228b-06c8-48ac-ac9f-3388798a0351   \n",
      "1             20240508-1722  3bfa26d7-8519-42e4-b9f1-8969ba2991a6   \n",
      "2             20240508-1722  4f34ece7-91dd-4292-87e0-2cfa4b3b3ecb   \n",
      "3             20240514-1646  61ddf436-0d4e-4a93-8ef6-6c020b6f5c09   \n",
      "4             20240508-1500  b28925e0-6148-44ff-a1d4-435a96871f1f   \n",
      "\n",
      "          event.timestamp  eventDate    OccurenceFinished.initiator.userId  \n",
      "0 2024-05-10 08:01:46.150 2024-05-10  248589e5-1374-4bcb-bbd2-3f3b9552869b  \n",
      "1 2024-05-08 17:22:16.910 2024-05-08  248589e5-1374-4bcb-bbd2-3f3b9552869b  \n",
      "2 2024-05-08 17:22:10.477 2024-05-08  248589e5-1374-4bcb-bbd2-3f3b9552869b  \n",
      "3 2024-05-14 16:46:17.207 2024-05-14  248589e5-1374-4bcb-bbd2-3f3b9552869b  \n",
      "4 2024-05-08 17:22:00.280 2024-05-08  248589e5-1374-4bcb-bbd2-3f3b9552869b  \n",
      "<class 'pandas.core.frame.DataFrame'>\n",
      "RangeIndex: 9296 entries, 0 to 9295\n",
      "Data columns (total 15 columns):\n",
      " #   Column                                      Non-Null Count  Dtype         \n",
      "---  ------                                      --------------  -----         \n",
      " 0   span                                        9296 non-null   object        \n",
      " 1   Activities.ActivityCategory                 7778 non-null   object        \n",
      " 2   Activities.CareEpisodeID                    9296 non-null   object        \n",
      " 3   Activities.description                      2432 non-null   object        \n",
      " 4   Activities.doubleStaffing                   9296 non-null   bool          \n",
      " 5   Activities.title                            9296 non-null   object        \n",
      " 6   ActivityOccurenceEvents.event_data.visitId  9296 non-null   object        \n",
      " 7   event_data.finishedAt                       9296 non-null   datetime64[ns]\n",
      " 8   event_data.occurencePlannedDatetime         9296 non-null   datetime64[ns]\n",
      " 9   aggregate_id                                9296 non-null   object        \n",
      " 10  event_data.occurrenceDate                   9296 non-null   object        \n",
      " 11  event_data.occurrenceId                     9296 non-null   object        \n",
      " 12  event.timestamp                             9296 non-null   datetime64[ns]\n",
      " 13  eventDate                                   9296 non-null   datetime64[ns]\n",
      " 14  OccurenceFinished.initiator.userId          9296 non-null   object        \n",
      "dtypes: bool(1), datetime64[ns](4), object(10)\n",
      "memory usage: 1.0+ MB\n",
      "None\n"
     ]
    }
   ],
   "source": [
    "import pandas as pd\n",
    "\n",
    "file_path = '/home/tomas/Family/Jennys work computer/AI/allData.xlsx' \n",
    "\n",
    "data = pd.read_excel(file_path)\n",
    "print(data.shape)\n",
    "print(data.head())\n",
    "print(data.info())"
   ]
  },
  {
   "cell_type": "code",
   "execution_count": null,
   "id": "6b0322d7-e3b5-4c5e-8815-f7b9bef8456a",
   "metadata": {},
   "outputs": [],
   "source": []
  }
 ],
 "metadata": {
  "kernelspec": {
   "display_name": "Python 3 (ipykernel)",
   "language": "python",
   "name": "python3"
  },
  "language_info": {
   "codemirror_mode": {
    "name": "ipython",
    "version": 3
   },
   "file_extension": ".py",
   "mimetype": "text/x-python",
   "name": "python",
   "nbconvert_exporter": "python",
   "pygments_lexer": "ipython3",
   "version": "3.12.7"
  }
 },
 "nbformat": 4,
 "nbformat_minor": 5
}
